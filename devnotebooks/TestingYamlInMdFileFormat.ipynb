{
 "cells": [
  {
   "cell_type": "code",
   "execution_count": 1,
   "metadata": {
    "collapsed": false
   },
   "outputs": [],
   "source": [
    "import markdown2\n",
    "from utils.yaml_export import links_to_yaml_string\n",
    "import yaml\n"
   ]
  },
  {
   "cell_type": "code",
   "execution_count": 2,
   "metadata": {
    "collapsed": false
   },
   "outputs": [],
   "source": [
    "# test data YAML dump\n",
    "links_data = {'links':[\n",
    "    {'notes': 'These are extra lines that would normally go below the link URL\\nvia https://www.python.org/\\ncode https://github.com/python/cpython\\n',\n",
    "     'title': 'The Python package index website',\n",
    "     'url': 'https://pypi.python.org/pypi'},\n",
    "    {'notes': 'This is a useful framework for building websites and now this continues on the next line',\n",
    "     'title': 'Django web framework',\n",
    "     'url': 'https://www.djangoproject.com/'},\n",
    "    {'notes': 'These are extra lines that would normally go below the link URL\\nvia https://www.python.org/\\ncode https://github.com/python/cpython',\n",
    "     'title': 'The Python package index website',\n",
    "     'url': 'https://pypi.python.org/pypi'},\n",
    "]}\n",
    "\n"
   ]
  },
  {
   "cell_type": "code",
   "execution_count": 4,
   "metadata": {
    "collapsed": false
   },
   "outputs": [
    {
     "name": "stdout",
     "output_type": "stream",
     "text": [
      "links:\n",
      "- url: https://pypi.python.org/pypi\n",
      "  title: The Python package index website\n",
      "  notes: |\n",
      "    These are extra lines that would normally go below the link URL\n",
      "    via https://www.python.org/\n",
      "    code https://github.com/python/cpython\n",
      "- url: https://www.djangoproject.com/\n",
      "  title: Django web framework\n",
      "  notes: |-\n",
      "    This is a useful framework for building websites and now this continues on the next line\n",
      "- url: https://pypi.python.org/pypi\n",
      "  title: The Python package index website\n",
      "  notes: |-\n",
      "    These are extra lines that would normally go below the link URL\n",
      "    via https://www.python.org/\n",
      "    code https://github.com/python/cpython\n",
      "\n"
     ]
    }
   ],
   "source": [
    "yaml_str = links_to_yaml_string(links_data)\n",
    "print(yaml_str)\n"
   ]
  },
  {
   "cell_type": "code",
   "execution_count": null,
   "metadata": {
    "collapsed": true
   },
   "outputs": [],
   "source": []
  },
  {
   "cell_type": "code",
   "execution_count": null,
   "metadata": {
    "collapsed": false
   },
   "outputs": [],
   "source": []
  },
  {
   "cell_type": "code",
   "execution_count": null,
   "metadata": {
    "collapsed": false
   },
   "outputs": [],
   "source": []
  },
  {
   "cell_type": "code",
   "execution_count": 5,
   "metadata": {
    "collapsed": false
   },
   "outputs": [],
   "source": [
    "d = yaml.load(open('test.yaml'))"
   ]
  },
  {
   "cell_type": "code",
   "execution_count": 6,
   "metadata": {
    "collapsed": false
   },
   "outputs": [
    {
     "data": {
      "text/plain": [
       "{'links': [{'notes': 'These are extra lines that would normally go below the link URL\\nvia https://www.python.org/\\ncode https://github.com/python/cpython\\n',\n",
       "   'title': 'The Python package индекс website',\n",
       "   'url': 'https://pypi.python.org/pypi'},\n",
       "  {'title': 'Django web framework', 'url': 'https://www.djangoproject.com/'}]}"
      ]
     },
     "execution_count": 6,
     "metadata": {},
     "output_type": "execute_result"
    }
   ],
   "source": [
    "d"
   ]
  },
  {
   "cell_type": "code",
   "execution_count": 7,
   "metadata": {
    "collapsed": false
   },
   "outputs": [
    {
     "name": "stdout",
     "output_type": "stream",
     "text": [
      "links:\n",
      "- url: https://pypi.python.org/pypi\n",
      "  title: The Python package индекс website\n",
      "  notes: |\n",
      "    These are extra lines that would normally go below the link URL\n",
      "    via https://www.python.org/\n",
      "    code https://github.com/python/cpython\n",
      "- url: https://www.djangoproject.com/\n",
      "  title: Django web framework\n",
      "\n"
     ]
    }
   ],
   "source": [
    "\n",
    "print( links_to_yaml_string(d) )  "
   ]
  },
  {
   "cell_type": "code",
   "execution_count": 8,
   "metadata": {
    "collapsed": true
   },
   "outputs": [],
   "source": [
    "with open('test_out.yml','w') as out_file:\n",
    "    out_file.write(links_to_yaml_string(d))"
   ]
  },
  {
   "cell_type": "code",
   "execution_count": 9,
   "metadata": {
    "collapsed": false
   },
   "outputs": [
    {
     "name": "stdout",
     "output_type": "stream",
     "text": [
      "links:\r\n",
      "- url: https://pypi.python.org/pypi\r\n",
      "  title: The Python package индекс website\r\n",
      "  notes: |\r\n",
      "    These are extra lines that would normally go below the link URL\r\n",
      "    via https://www.python.org/\r\n",
      "    code https://github.com/python/cpython\r\n",
      "- url: https://www.djangoproject.com/\r\n",
      "  title: Django web framework\r\n"
     ]
    }
   ],
   "source": [
    "!cat  test_out.yml"
   ]
  },
  {
   "cell_type": "code",
   "execution_count": null,
   "metadata": {
    "collapsed": false
   },
   "outputs": [],
   "source": []
  },
  {
   "cell_type": "code",
   "execution_count": null,
   "metadata": {
    "collapsed": false
   },
   "outputs": [],
   "source": []
  },
  {
   "cell_type": "code",
   "execution_count": null,
   "metadata": {
    "collapsed": true
   },
   "outputs": [],
   "source": []
  }
 ],
 "metadata": {
  "kernelspec": {
   "display_name": "Python 3",
   "language": "python",
   "name": "python3"
  },
  "language_info": {
   "codemirror_mode": {
    "name": "ipython",
    "version": 3
   },
   "file_extension": ".py",
   "mimetype": "text/x-python",
   "name": "python",
   "nbconvert_exporter": "python",
   "pygments_lexer": "ipython3",
   "version": "3.5.1"
  }
 },
 "nbformat": 4,
 "nbformat_minor": 2
}
