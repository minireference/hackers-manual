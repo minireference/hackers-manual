{
 "cells": [
  {
   "cell_type": "code",
   "execution_count": null,
   "metadata": {
    "collapsed": true
   },
   "outputs": [],
   "source": [
    "import os\n",
    "\n",
    "from utils.parser import parse_page"
   ]
  },
  {
   "cell_type": "code",
   "execution_count": 3,
   "metadata": {
    "collapsed": false
   },
   "outputs": [
    {
     "name": "stdout",
     "output_type": "stream",
     "text": [
      "---\n",
      "links:\n",
      "- url: http://blog.tjll.net/ssh-kung-fu/\n",
      "  title: ssh kund fu\n",
      "- url: http://heipei.github.io/2015/02/26/SSH-Agent-Forwarding-considered-harmful/\n",
      "  title: ''\n",
      "- url: http://blogs.perl.org/users/smylers/2011/08/ssh-productivity-tips.html\n",
      "  title: ''\n",
      "---\n",
      "\n",
      "\n",
      "\n",
      "Confuse people SSHing to your host with a redirect back to theirs.\n",
      "\n",
      "    socat -d -d TCP-L:22,reuseaddr,fork SYSTEM:\"nc \\$SOCAT_PEERADDR 22\" \n",
      "\n",
      "via https://twitter.com/climagic/status/452079585665224704\n",
      "\n",
      "\n",
      "\n",
      "\n"
     ]
    },
    {
     "data": {
      "text/plain": [
       "([{'title': 'ssh kund fu', 'url': 'http://blog.tjll.net/ssh-kung-fu/'},\n",
       "  {'title': '',\n",
       "   'url': 'http://heipei.github.io/2015/02/26/SSH-Agent-Forwarding-considered-harmful/'},\n",
       "  {'title': '',\n",
       "   'url': 'http://blogs.perl.org/users/smylers/2011/08/ssh-productivity-tips.html'}],\n",
       " '<p>Confuse people SSHing to your host with a redirect back to theirs.</p>\\n\\n<pre><code>socat -d -d TCP-L:22,reuseaddr,fork SYSTEM:\"nc \\\\$SOCAT_PEERADDR 22\"\\n</code></pre>\\n\\n<p>via <a href=\"https://twitter.com/climagic/status/452079585665224704\">https://twitter.com/climagic/status/452079585665224704</a></p>\\n')"
      ]
     },
     "execution_count": 3,
     "metadata": {},
     "output_type": "execute_result"
    }
   ],
   "source": [
    "PROJECT_DEST_DIR = '/Users/ivan/Projects/RC/hackers-manual/pages'\n",
    "\n",
    "contents = open( os.path.join(PROJECT_DEST_DIR, 'sshd.md') ).read()\n",
    "print(contents)\n",
    "\n",
    "\n",
    "# print(yaml_header_re.findall(contents)[0])\n",
    "\n",
    "\n",
    "parse_page(contents)"
   ]
  },
  {
   "cell_type": "code",
   "execution_count": null,
   "metadata": {
    "collapsed": false
   },
   "outputs": [],
   "source": []
  },
  {
   "cell_type": "code",
   "execution_count": null,
   "metadata": {
    "collapsed": false
   },
   "outputs": [],
   "source": [
    "contents"
   ]
  },
  {
   "cell_type": "code",
   "execution_count": null,
   "metadata": {
    "collapsed": false
   },
   "outputs": [],
   "source": [
    "\n",
    "\n",
    "d \n"
   ]
  },
  {
   "cell_type": "code",
   "execution_count": null,
   "metadata": {
    "collapsed": true
   },
   "outputs": [],
   "source": []
  },
  {
   "cell_type": "code",
   "execution_count": null,
   "metadata": {
    "collapsed": false
   },
   "outputs": [],
   "source": [
    "\n"
   ]
  },
  {
   "cell_type": "markdown",
   "metadata": {},
   "source": [
    "### Apr 5: 3pm Realization\n",
    "\n",
    "Apparently the YAML metadata processing `markdown2` is a complete joke.  \n",
    "It doesn's support nested structures or anything like that... so I'm really wondering if this is a format to use.\n",
    "\n",
    "UPDATE: 3:33pm --- I wrote a custom parser for the proposed file format... push on lets finish this today so we can work on somethign else tomorrow!\n",
    "\n",
    "\n"
   ]
  },
  {
   "cell_type": "code",
   "execution_count": null,
   "metadata": {
    "collapsed": false
   },
   "outputs": [],
   "source": []
  },
  {
   "cell_type": "code",
   "execution_count": null,
   "metadata": {
    "collapsed": false
   },
   "outputs": [],
   "source": []
  },
  {
   "cell_type": "code",
   "execution_count": null,
   "metadata": {
    "collapsed": true
   },
   "outputs": [],
   "source": []
  }
 ],
 "metadata": {
  "kernelspec": {
   "display_name": "Python 3",
   "language": "python",
   "name": "python3"
  },
  "language_info": {
   "codemirror_mode": {
    "name": "ipython",
    "version": 3
   },
   "file_extension": ".py",
   "mimetype": "text/x-python",
   "name": "python",
   "nbconvert_exporter": "python",
   "pygments_lexer": "ipython3",
   "version": "3.5.1"
  }
 },
 "nbformat": 4,
 "nbformat_minor": 2
}
